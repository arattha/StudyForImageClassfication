import tensorflow as tf
from tensorflow.keras import datasets,layers,models
import skimage.transform

import numpy as np
import matplotlib.pyplot as plt
from keras.preprocessing.image import ImageDataGenerator


(train_images,train_labels),(test_images,test_labels)=datasets.cifar10.load_data()

train_images,test_images=train_images/255.0,test_images/255.0

class_names = ['airplane', 'automobile', 'bird', 'cat', 'deer', 'dog', 'frog', 'horse', 'ship', 'truck']

plt.figure(figsize=(10,10))

    
"""
for i in range(10):
    plt.subplot(5,5,i+1)
    plt.xticks([])
    plt.yticks([])
    plt.grid(False)
    plt.imshow((train_images[i]),cmap=plt.cm.binary)
    plt.xlabel(class_names[train_labels[i][0]])
plt.show()
"""
test_images=tf.image.resize(test_images,(224,224))

K = 4
#input_tensor = Input(shape=(224, 224, 3), dtype='float32', name='input')

def FirstConvLayer(x):
    x=layers.ZeroPadding2D(padding=(3,3))(x)
    x=layers.Conv2D(64,(7,7),strides=(2,2))(x)
    x=layers.BatchNormalization()(x)
    x=layers.Activation('relu')(x)
    x=layers.ZeroPadding2D(padding=(1,1))(x)
    
    return x

def SecondConvLayer(x):
    x=layers.MaxPool2D((3,3),2)(x)
    residual=x #잔차 저장
    
    x=layers.Conv2D(64,(1,1),strides=(1,1),padding='valid')(x)
    x=layers.BatchNormalization()(x)
    x=layers.Activation('relu')(x)
    
    x=layers.Conv2D(64,(3,3),strides=(1,1),padding='same')(x)
    x=layers.BatchNormalization()(x)
    x=layers.Activation('relu')(x)
    
    x=layers.Conv2D(256,(1,1),strides=(1,1),padding='valid')(x)
    residual=layers.Conv2D(256,(1,1),strides=(1,1),padding='valid')(residual)
    x=layers.BatchNormalization()(x)
    residual=layers.BatchNormalization()(residual)
    
    x=Add()([x,residual])
    x=layers.Activation('relu')(x) 
    residual=x
    
    for i in range(2):
        x=layers.Conv2D(64,(1,1),strides=(1,1),padding='valid')(x)
        x=layers.BatchNormalization()(x)
        x=layers.Activation('relu')(x)
        
        x=layers.Conv2D(64,(1,1),strides=(3,3),padding='same')(x)
        x=layers.BatchNormalization()(x)
        x=layers.Activation('relu')(x)
        
        x=layers.Conv2D(256,(1,1),strides=(1,1),padding='valid')(x)
        x=layers.BatchNormalization()(x)
        
        x=Add()([x,residual])
        x=layers.Activation('relu')(x)
        residual=x
        
    return x

def ThirdConvLayer(x):
    residual=x
    
    x=layers.Conv2D(128,(1,1),strides=(2,2),padding='valid')(x)
    x=layers.BatchNormalization()(x)
    x=layers.Activation('relu')(x)
    
    x=layers.Conv2D(128,(3,3),strides=(1,1),padding='same')(x)
    x=layers.BatchNormalization()(x)
    x=layers.Activation('relu')(x)
    
    x=layers.Conv2D(512,(1,1),strides=(1,1),padding='valid')(x)
    residual=layers.Conv2D(512,(1,1),strides=(2,2),padding='valid')(x)
    x=layers.BatchNormalization()(x)
    residual=layers.BatchNormalization()(residual)
    
    x=Add()([x,residual])
    x=layers.Activation('relu')(x)
    
    residual=x
    
    for i in range(3):
        x=layers.Conv2D(128,(1,1),strides=(1,1),padding='valid')(x)
        x=layers.BatchNormalization()(x)
        x=layers.Activation('relu')(x)
    
        x=layers.Conv2D(128,(3,3),strides=(1,1),padding='same')(x)
        x=layers.BatchNormalization()(x)
        x=layers.Activation('relu')(x)
    
        x=layers.Conv2D(512,(1,1),strides=(1,1),padding='valid')(x)
        x=layers.BatchNormalization()(x)
        x=Add()([x,residual])
        x=layers.Activation('relu')(x)
        
        residual=x
        
    return x
        
def FourthConvLayer(x):
    residual=x
    
    x=layers.Conv2D(256,(1,1),strides=(2,2),padding='valid')(x)
    x=layers.BatchNormalization()(x)
    x=layers.Activation('relu')(x)
    
    x=layers.Conv2D(256,(3,3),strides=(1,1),padding='same')(x)
    x=layers.BatchNormalization()(x)
    x=layers.Activation('relu')(x)
    
    x=layers.Conv2D(1024,(1,1),strides=(1,1),padding='valid')(x)
    residual=layers.Conv2D(1024,(1,1),strides=(1,1),padding='valid')(residual)
    x=layers.BatchNormalization()(x)
    residual=layers.BatchNormalization()(residual)
    
    x=Add()([x,residual])
    x=layers.Activation('relu')(x)
    
    residual=x
    
    for i in range(6):
        x=layers.Conv2D(256,(1,1),strides=(1,1),padding='valid')(x)
        x=layers.BatchNormalization()(x)
        x=layers.Activation('relu')(x)
        
        x=layers.Conv2D(256,(3,3),strides=(1,1),padding='same')(x)
        x=layers.BatchNormalization()(x)
        x=layers.Activation('relu')(x)
        
        x=layers.Conv2D(1024,(1,1),strides=(1,1),padding='valid')(x)
        x=layers.BatchNormalization()(x)
        x=Add()([x,residual])
        x=layers.Activation('relu')(x)
        
        residual=x
        
    return x
        
def FifthConvLayer(x):
    x=layers.Conv2D(512,(1,1),strides=(2,2),padding='valid')(x)
    x=layers.BatchNormalization()(x)
    x=layers.Activation('relu')(x)
    
    x=layers.Conv2D(512,(3,3),strides=(1,1),padding='same')(x)
    x=layers.BatchNormalization()(x)
    x=layers.Activation('relu')(x)
    
    x=layers.Conv2D(2048,(1,1),strides=(1,1),padding='valid')(x)
    residual=layers.Conv2D(1024,(1,1),strides=(2,2),padding='valid')(residual)
    x=layers.BatchNormalization()(x)
    residual=layers.BatchNormalization()(residual)
    
    x=Add()([x,residual])
    x=layers.Activation('relu')(x)
    
    residual=x
    
    for i in range(2):
        x=layers.Conv2D(512,(1,1),strides=(1,1),padding='valid')(x)
        x=layers.BatchNormalization()(x)
        x=layers.Activation('relu')(x)
        
        x=layers.Conv2D(512,(3,3),strides=(3,3),padding='same')(x)
        x=layers.BatchNormalization()(x)
        x=layers.Activation('relu')(x)
        
        x=layers.Conv2D(2048,(1,1),strides=(1,1),padding='valid')(x)
        x=layers.BatchNormalization()(x)
        x=Add()([x,residual])
        x=layers.Activation('relu')(x)
        
        residual=x
    
    return x

x = FirstConvLayer(test_images)
x = SecondConvLayer(x)
x = ThirdConvLayer(x)
x = FourthConvLayer(x)
x = FifthConvLayer(x)

x=layers.GlobalAveragePooling2D()(x)
output_tensor=Dense(K,activation='softmax')(x)

resnet50 = Model(input_tensor, output_tensor)
resnet50.summary()
